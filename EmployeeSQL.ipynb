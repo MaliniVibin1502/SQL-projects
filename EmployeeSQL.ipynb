{
  "nbformat": 4,
  "nbformat_minor": 0,
  "metadata": {
    "colab": {
      "provenance": [],
      "mount_file_id": "1qBEB8tyeiLms4aIOqjDqhoGOzwCJmtWE",
      "authorship_tag": "ABX9TyMYYa+O6UbxIETrPmMOySP/",
      "include_colab_link": true
    },
    "kernelspec": {
      "name": "python3",
      "display_name": "Python 3"
    },
    "language_info": {
      "name": "python"
    }
  },
  "cells": [
    {
      "cell_type": "markdown",
      "metadata": {
        "id": "view-in-github",
        "colab_type": "text"
      },
      "source": [
        "<a href=\"https://colab.research.google.com/github/MaliniVibin1502/SQL-projects/blob/main/EmployeeSQL.ipynb\" target=\"_parent\"><img src=\"https://colab.research.google.com/assets/colab-badge.svg\" alt=\"Open In Colab\"/></a>"
      ]
    },
    {
      "cell_type": "markdown",
      "source": [
        "This is a SQL project done from the files from github repository Apex8/ Employee-Database-SQL-mystery a SQL challenge. The repository had 6 CSV files.\n",
        "\n",
        "I converted the CSV files into a db file using Sqlite DB browser and saved in Google drive and mounted it into Google Colab for the project. The project is done by installing pymysql into this Colab notebook and using %%sql for SQL querying.\n",
        "\n",
        "The questions mentioned below are from the challenge in the above mentioned repository.\n"
      ],
      "metadata": {
        "id": "Nk0B-ReJ4_q_"
      }
    },
    {
      "cell_type": "code",
      "execution_count": 38,
      "metadata": {
        "colab": {
          "base_uri": "https://localhost:8080/"
        },
        "id": "OTZQX_VS0B3Z",
        "outputId": "4f014866-2d2b-4543-8fcd-b8b68cb79cb4"
      },
      "outputs": [
        {
          "output_type": "stream",
          "name": "stdout",
          "text": [
            "Requirement already satisfied: pymysql in /usr/local/lib/python3.10/dist-packages (1.1.0)\n"
          ]
        }
      ],
      "source": [
        "!pip install pymysql"
      ]
    },
    {
      "cell_type": "code",
      "source": [
        "%load_ext sql"
      ],
      "metadata": {
        "colab": {
          "base_uri": "https://localhost:8080/"
        },
        "id": "tpgrfsTo1e2w",
        "outputId": "62fa9f4c-e435-49d6-f314-5c9909e4eddc"
      },
      "execution_count": 39,
      "outputs": [
        {
          "output_type": "stream",
          "name": "stdout",
          "text": [
            "The sql extension is already loaded. To reload it, use:\n",
            "  %reload_ext sql\n"
          ]
        }
      ]
    },
    {
      "cell_type": "code",
      "source": [
        "%sql sqlite:////content/drive/MyDrive/ColabNotebooks/Employee.db"
      ],
      "metadata": {
        "id": "_OuDArnQ2XJm"
      },
      "execution_count": 40,
      "outputs": []
    },
    {
      "cell_type": "code",
      "source": [
        "%%sql\n",
        "SELECT * FROM employees\n",
        "LIMIT 5"
      ],
      "metadata": {
        "colab": {
          "base_uri": "https://localhost:8080/",
          "height": 182
        },
        "id": "W_SdjZ2X2yYf",
        "outputId": "0192b9e4-deb7-43f6-b5b4-a7b017043464"
      },
      "execution_count": 41,
      "outputs": [
        {
          "output_type": "stream",
          "name": "stdout",
          "text": [
            " * sqlite:////content/drive/MyDrive/ColabNotebooks/Employee.db\n",
            "Done.\n"
          ]
        },
        {
          "output_type": "execute_result",
          "data": {
            "text/plain": [
              "[(473302, 's0001', '7/25/1953', 'Hideyuki', 'Zallocco', 'M', '4/28/1990'),\n",
              " (475053, 'e0002', '11/18/1954', 'Byong', 'Delgrande', 'F', '9/7/1991'),\n",
              " (57444, 'e0002', '1/30/1958', 'Berry', 'Babb', 'F', '3/21/1992'),\n",
              " (421786, 's0001', '9/28/1957', 'Xiong', 'Verhoeff', 'M', '11/26/1987'),\n",
              " (282238, 'e0003', '10/28/1952', 'Abdelkader', 'Baumann', 'F', '1/18/1991')]"
            ],
            "text/html": [
              "<table>\n",
              "    <thead>\n",
              "        <tr>\n",
              "            <th>emp_no</th>\n",
              "            <th>emp_title_id</th>\n",
              "            <th>birth_date</th>\n",
              "            <th>first_name</th>\n",
              "            <th>last_name</th>\n",
              "            <th>sex</th>\n",
              "            <th>hire_date</th>\n",
              "        </tr>\n",
              "    </thead>\n",
              "    <tbody>\n",
              "        <tr>\n",
              "            <td>473302</td>\n",
              "            <td>s0001</td>\n",
              "            <td>7/25/1953</td>\n",
              "            <td>Hideyuki</td>\n",
              "            <td>Zallocco</td>\n",
              "            <td>M</td>\n",
              "            <td>4/28/1990</td>\n",
              "        </tr>\n",
              "        <tr>\n",
              "            <td>475053</td>\n",
              "            <td>e0002</td>\n",
              "            <td>11/18/1954</td>\n",
              "            <td>Byong</td>\n",
              "            <td>Delgrande</td>\n",
              "            <td>F</td>\n",
              "            <td>9/7/1991</td>\n",
              "        </tr>\n",
              "        <tr>\n",
              "            <td>57444</td>\n",
              "            <td>e0002</td>\n",
              "            <td>1/30/1958</td>\n",
              "            <td>Berry</td>\n",
              "            <td>Babb</td>\n",
              "            <td>F</td>\n",
              "            <td>3/21/1992</td>\n",
              "        </tr>\n",
              "        <tr>\n",
              "            <td>421786</td>\n",
              "            <td>s0001</td>\n",
              "            <td>9/28/1957</td>\n",
              "            <td>Xiong</td>\n",
              "            <td>Verhoeff</td>\n",
              "            <td>M</td>\n",
              "            <td>11/26/1987</td>\n",
              "        </tr>\n",
              "        <tr>\n",
              "            <td>282238</td>\n",
              "            <td>e0003</td>\n",
              "            <td>10/28/1952</td>\n",
              "            <td>Abdelkader</td>\n",
              "            <td>Baumann</td>\n",
              "            <td>F</td>\n",
              "            <td>1/18/1991</td>\n",
              "        </tr>\n",
              "    </tbody>\n",
              "</table>"
            ]
          },
          "metadata": {},
          "execution_count": 41
        }
      ]
    },
    {
      "cell_type": "code",
      "source": [
        "%%sql\n",
        "SELECT * FROM departments\n",
        "LIMIT 9"
      ],
      "metadata": {
        "colab": {
          "base_uri": "https://localhost:8080/",
          "height": 267
        },
        "id": "tNSLAJLH3p34",
        "outputId": "1d9e1da1-fbdb-41e5-edca-4e16162f3515"
      },
      "execution_count": 42,
      "outputs": [
        {
          "output_type": "stream",
          "name": "stdout",
          "text": [
            " * sqlite:////content/drive/MyDrive/ColabNotebooks/Employee.db\n",
            "Done.\n"
          ]
        },
        {
          "output_type": "execute_result",
          "data": {
            "text/plain": [
              "[('d001', 'Marketing'),\n",
              " ('d002', 'Finance'),\n",
              " ('d003', 'Human Resources'),\n",
              " ('d004', 'Production'),\n",
              " ('d005', 'Development'),\n",
              " ('d006', 'Quality Management'),\n",
              " ('d007', 'Sales'),\n",
              " ('d008', 'Research'),\n",
              " ('d009', 'Customer Service')]"
            ],
            "text/html": [
              "<table>\n",
              "    <thead>\n",
              "        <tr>\n",
              "            <th>dept_no</th>\n",
              "            <th>dept_name</th>\n",
              "        </tr>\n",
              "    </thead>\n",
              "    <tbody>\n",
              "        <tr>\n",
              "            <td>d001</td>\n",
              "            <td>Marketing</td>\n",
              "        </tr>\n",
              "        <tr>\n",
              "            <td>d002</td>\n",
              "            <td>Finance</td>\n",
              "        </tr>\n",
              "        <tr>\n",
              "            <td>d003</td>\n",
              "            <td>Human Resources</td>\n",
              "        </tr>\n",
              "        <tr>\n",
              "            <td>d004</td>\n",
              "            <td>Production</td>\n",
              "        </tr>\n",
              "        <tr>\n",
              "            <td>d005</td>\n",
              "            <td>Development</td>\n",
              "        </tr>\n",
              "        <tr>\n",
              "            <td>d006</td>\n",
              "            <td>Quality Management</td>\n",
              "        </tr>\n",
              "        <tr>\n",
              "            <td>d007</td>\n",
              "            <td>Sales</td>\n",
              "        </tr>\n",
              "        <tr>\n",
              "            <td>d008</td>\n",
              "            <td>Research</td>\n",
              "        </tr>\n",
              "        <tr>\n",
              "            <td>d009</td>\n",
              "            <td>Customer Service</td>\n",
              "        </tr>\n",
              "    </tbody>\n",
              "</table>"
            ]
          },
          "metadata": {},
          "execution_count": 42
        }
      ]
    },
    {
      "cell_type": "markdown",
      "source": [
        "Listing first name, last name, and hire date for employees who were hired in 1986."
      ],
      "metadata": {
        "id": "N_nc95E-Ry_Z"
      }
    },
    {
      "cell_type": "code",
      "source": [
        "%%sql\n",
        "SELECT first_name,last_name,hire_date\n",
        "FROM employees\n",
        "WHERE hire_date LIKE \"%1986\"\n",
        "LIMIT 10\n",
        "\n"
      ],
      "metadata": {
        "colab": {
          "base_uri": "https://localhost:8080/",
          "height": 288
        },
        "id": "otlAqpdP4a09",
        "outputId": "de13a587-a3a7-4025-a0ac-1806c328af88"
      },
      "execution_count": 43,
      "outputs": [
        {
          "output_type": "stream",
          "name": "stdout",
          "text": [
            " * sqlite:////content/drive/MyDrive/ColabNotebooks/Employee.db\n",
            "Done.\n"
          ]
        },
        {
          "output_type": "execute_result",
          "data": {
            "text/plain": [
              "[('Eran', 'Cusworth', '11/14/1986'),\n",
              " ('Bojan', 'Zallocco', '10/14/1986'),\n",
              " ('Nevio', 'Demizu', '5/18/1986'),\n",
              " ('Ziva', 'Vecchi', '7/3/1986'),\n",
              " ('Mohit', 'Speek', '1/14/1986'),\n",
              " ('Qunsheng', 'Speer', '2/13/1986'),\n",
              " ('Dines', 'Encarnacion', '8/2/1986'),\n",
              " ('Harngdar', 'Swick', '5/28/1986'),\n",
              " ('Freyja', 'Uhrig', '12/20/1986'),\n",
              " ('Zhenhua', 'Milicic', '8/4/1986')]"
            ],
            "text/html": [
              "<table>\n",
              "    <thead>\n",
              "        <tr>\n",
              "            <th>first_name</th>\n",
              "            <th>last_name</th>\n",
              "            <th>hire_date</th>\n",
              "        </tr>\n",
              "    </thead>\n",
              "    <tbody>\n",
              "        <tr>\n",
              "            <td>Eran</td>\n",
              "            <td>Cusworth</td>\n",
              "            <td>11/14/1986</td>\n",
              "        </tr>\n",
              "        <tr>\n",
              "            <td>Bojan</td>\n",
              "            <td>Zallocco</td>\n",
              "            <td>10/14/1986</td>\n",
              "        </tr>\n",
              "        <tr>\n",
              "            <td>Nevio</td>\n",
              "            <td>Demizu</td>\n",
              "            <td>5/18/1986</td>\n",
              "        </tr>\n",
              "        <tr>\n",
              "            <td>Ziva</td>\n",
              "            <td>Vecchi</td>\n",
              "            <td>7/3/1986</td>\n",
              "        </tr>\n",
              "        <tr>\n",
              "            <td>Mohit</td>\n",
              "            <td>Speek</td>\n",
              "            <td>1/14/1986</td>\n",
              "        </tr>\n",
              "        <tr>\n",
              "            <td>Qunsheng</td>\n",
              "            <td>Speer</td>\n",
              "            <td>2/13/1986</td>\n",
              "        </tr>\n",
              "        <tr>\n",
              "            <td>Dines</td>\n",
              "            <td>Encarnacion</td>\n",
              "            <td>8/2/1986</td>\n",
              "        </tr>\n",
              "        <tr>\n",
              "            <td>Harngdar</td>\n",
              "            <td>Swick</td>\n",
              "            <td>5/28/1986</td>\n",
              "        </tr>\n",
              "        <tr>\n",
              "            <td>Freyja</td>\n",
              "            <td>Uhrig</td>\n",
              "            <td>12/20/1986</td>\n",
              "        </tr>\n",
              "        <tr>\n",
              "            <td>Zhenhua</td>\n",
              "            <td>Milicic</td>\n",
              "            <td>8/4/1986</td>\n",
              "        </tr>\n",
              "    </tbody>\n",
              "</table>"
            ]
          },
          "metadata": {},
          "execution_count": 43
        }
      ]
    },
    {
      "cell_type": "markdown",
      "source": [
        "Listing the following details of each employee: employee number, last name, first name, sex, and salary.\n"
      ],
      "metadata": {
        "id": "CZ3zpj0uSFZ1"
      }
    },
    {
      "cell_type": "code",
      "source": [
        "%%sql\n",
        "SELECT employees.emp_no, employees.last_name, employees.first_name, employees.sex, salaries.salary\n",
        "FROM employees\n",
        "JOIN salaries\n",
        " ON salaries.emp_no = employees.emp_no\n",
        "LIMIT 10\n"
      ],
      "metadata": {
        "colab": {
          "base_uri": "https://localhost:8080/",
          "height": 288
        },
        "id": "VUoVGvgSRjwW",
        "outputId": "c8f59b03-c4cd-49d7-edbe-71a4efe6c43b"
      },
      "execution_count": 44,
      "outputs": [
        {
          "output_type": "stream",
          "name": "stdout",
          "text": [
            " * sqlite:////content/drive/MyDrive/ColabNotebooks/Employee.db\n",
            "Done.\n"
          ]
        },
        {
          "output_type": "execute_result",
          "data": {
            "text/plain": [
              "[(473302, 'Zallocco', 'Hideyuki', 'M', 40000),\n",
              " (475053, 'Delgrande', 'Byong', 'F', 53422),\n",
              " (57444, 'Babb', 'Berry', 'F', 48973),\n",
              " (421786, 'Verhoeff', 'Xiong', 'M', 40000),\n",
              " (282238, 'Baumann', 'Abdelkader', 'F', 40000),\n",
              " (263976, 'Cusworth', 'Eran', 'M', 40000),\n",
              " (273487, 'Parfitt', 'Christoph', 'M', 56087),\n",
              " (461591, 'Samarati', 'Xudong', 'M', 40000),\n",
              " (477657, 'Magliocco', 'Lihong', 'M', 54816),\n",
              " (219881, 'Speek', 'Kwangyoen', 'F', 40000)]"
            ],
            "text/html": [
              "<table>\n",
              "    <thead>\n",
              "        <tr>\n",
              "            <th>emp_no</th>\n",
              "            <th>last_name</th>\n",
              "            <th>first_name</th>\n",
              "            <th>sex</th>\n",
              "            <th>salary</th>\n",
              "        </tr>\n",
              "    </thead>\n",
              "    <tbody>\n",
              "        <tr>\n",
              "            <td>473302</td>\n",
              "            <td>Zallocco</td>\n",
              "            <td>Hideyuki</td>\n",
              "            <td>M</td>\n",
              "            <td>40000</td>\n",
              "        </tr>\n",
              "        <tr>\n",
              "            <td>475053</td>\n",
              "            <td>Delgrande</td>\n",
              "            <td>Byong</td>\n",
              "            <td>F</td>\n",
              "            <td>53422</td>\n",
              "        </tr>\n",
              "        <tr>\n",
              "            <td>57444</td>\n",
              "            <td>Babb</td>\n",
              "            <td>Berry</td>\n",
              "            <td>F</td>\n",
              "            <td>48973</td>\n",
              "        </tr>\n",
              "        <tr>\n",
              "            <td>421786</td>\n",
              "            <td>Verhoeff</td>\n",
              "            <td>Xiong</td>\n",
              "            <td>M</td>\n",
              "            <td>40000</td>\n",
              "        </tr>\n",
              "        <tr>\n",
              "            <td>282238</td>\n",
              "            <td>Baumann</td>\n",
              "            <td>Abdelkader</td>\n",
              "            <td>F</td>\n",
              "            <td>40000</td>\n",
              "        </tr>\n",
              "        <tr>\n",
              "            <td>263976</td>\n",
              "            <td>Cusworth</td>\n",
              "            <td>Eran</td>\n",
              "            <td>M</td>\n",
              "            <td>40000</td>\n",
              "        </tr>\n",
              "        <tr>\n",
              "            <td>273487</td>\n",
              "            <td>Parfitt</td>\n",
              "            <td>Christoph</td>\n",
              "            <td>M</td>\n",
              "            <td>56087</td>\n",
              "        </tr>\n",
              "        <tr>\n",
              "            <td>461591</td>\n",
              "            <td>Samarati</td>\n",
              "            <td>Xudong</td>\n",
              "            <td>M</td>\n",
              "            <td>40000</td>\n",
              "        </tr>\n",
              "        <tr>\n",
              "            <td>477657</td>\n",
              "            <td>Magliocco</td>\n",
              "            <td>Lihong</td>\n",
              "            <td>M</td>\n",
              "            <td>54816</td>\n",
              "        </tr>\n",
              "        <tr>\n",
              "            <td>219881</td>\n",
              "            <td>Speek</td>\n",
              "            <td>Kwangyoen</td>\n",
              "            <td>F</td>\n",
              "            <td>40000</td>\n",
              "        </tr>\n",
              "    </tbody>\n",
              "</table>"
            ]
          },
          "metadata": {},
          "execution_count": 44
        }
      ]
    },
    {
      "cell_type": "markdown",
      "source": [
        "Listing the manager of each department with the following information: department number, department name, the manager's employee number, last name, first name."
      ],
      "metadata": {
        "id": "NCbzHnyqVQ5Q"
      }
    },
    {
      "cell_type": "code",
      "source": [
        "%%sql\n",
        "SELECT departments.dept_no, departments.dept_name, dept_manager.emp_no, employees.last_name, employees.first_name\n",
        "FROM departments JOIN dept_manager ON departments.dept_no = dept_manager.dept_no\n",
        "JOIN employees ON dept_manager.emp_no = employees.emp_no\n",
        "LIMIT 10\n",
        "\n"
      ],
      "metadata": {
        "colab": {
          "base_uri": "https://localhost:8080/",
          "height": 288
        },
        "id": "iSTWE9WAVUcj",
        "outputId": "25348c5a-fe48-4802-b998-ae1504b39be0"
      },
      "execution_count": 45,
      "outputs": [
        {
          "output_type": "stream",
          "name": "stdout",
          "text": [
            " * sqlite:////content/drive/MyDrive/ColabNotebooks/Employee.db\n",
            "Done.\n"
          ]
        },
        {
          "output_type": "execute_result",
          "data": {
            "text/plain": [
              "[('d001', 'Marketing', 110022, 'Markovitch', 'Margareta'),\n",
              " ('d001', 'Marketing', 110039, 'Minakawa', 'Vishwani'),\n",
              " ('d002', 'Finance', 110085, 'Alpin', 'Ebru'),\n",
              " ('d002', 'Finance', 110114, 'Legleitner', 'Isamu'),\n",
              " ('d003', 'Human Resources', 110183, 'Ossenbruggen', 'Shirish'),\n",
              " ('d003', 'Human Resources', 110228, 'Sigstam', 'Karsten'),\n",
              " ('d004', 'Production', 110303, 'Wegerle', 'Krassimir'),\n",
              " ('d004', 'Production', 110344, 'Cools', 'Rosine'),\n",
              " ('d004', 'Production', 110386, 'Kieras', 'Shem'),\n",
              " ('d004', 'Production', 110420, 'Ghazalie', 'Oscar')]"
            ],
            "text/html": [
              "<table>\n",
              "    <thead>\n",
              "        <tr>\n",
              "            <th>dept_no</th>\n",
              "            <th>dept_name</th>\n",
              "            <th>emp_no</th>\n",
              "            <th>last_name</th>\n",
              "            <th>first_name</th>\n",
              "        </tr>\n",
              "    </thead>\n",
              "    <tbody>\n",
              "        <tr>\n",
              "            <td>d001</td>\n",
              "            <td>Marketing</td>\n",
              "            <td>110022</td>\n",
              "            <td>Markovitch</td>\n",
              "            <td>Margareta</td>\n",
              "        </tr>\n",
              "        <tr>\n",
              "            <td>d001</td>\n",
              "            <td>Marketing</td>\n",
              "            <td>110039</td>\n",
              "            <td>Minakawa</td>\n",
              "            <td>Vishwani</td>\n",
              "        </tr>\n",
              "        <tr>\n",
              "            <td>d002</td>\n",
              "            <td>Finance</td>\n",
              "            <td>110085</td>\n",
              "            <td>Alpin</td>\n",
              "            <td>Ebru</td>\n",
              "        </tr>\n",
              "        <tr>\n",
              "            <td>d002</td>\n",
              "            <td>Finance</td>\n",
              "            <td>110114</td>\n",
              "            <td>Legleitner</td>\n",
              "            <td>Isamu</td>\n",
              "        </tr>\n",
              "        <tr>\n",
              "            <td>d003</td>\n",
              "            <td>Human Resources</td>\n",
              "            <td>110183</td>\n",
              "            <td>Ossenbruggen</td>\n",
              "            <td>Shirish</td>\n",
              "        </tr>\n",
              "        <tr>\n",
              "            <td>d003</td>\n",
              "            <td>Human Resources</td>\n",
              "            <td>110228</td>\n",
              "            <td>Sigstam</td>\n",
              "            <td>Karsten</td>\n",
              "        </tr>\n",
              "        <tr>\n",
              "            <td>d004</td>\n",
              "            <td>Production</td>\n",
              "            <td>110303</td>\n",
              "            <td>Wegerle</td>\n",
              "            <td>Krassimir</td>\n",
              "        </tr>\n",
              "        <tr>\n",
              "            <td>d004</td>\n",
              "            <td>Production</td>\n",
              "            <td>110344</td>\n",
              "            <td>Cools</td>\n",
              "            <td>Rosine</td>\n",
              "        </tr>\n",
              "        <tr>\n",
              "            <td>d004</td>\n",
              "            <td>Production</td>\n",
              "            <td>110386</td>\n",
              "            <td>Kieras</td>\n",
              "            <td>Shem</td>\n",
              "        </tr>\n",
              "        <tr>\n",
              "            <td>d004</td>\n",
              "            <td>Production</td>\n",
              "            <td>110420</td>\n",
              "            <td>Ghazalie</td>\n",
              "            <td>Oscar</td>\n",
              "        </tr>\n",
              "    </tbody>\n",
              "</table>"
            ]
          },
          "metadata": {},
          "execution_count": 45
        }
      ]
    },
    {
      "cell_type": "markdown",
      "source": [
        "Listing the department of each employee with the following information: employee number, last name, first name, and department name.\n"
      ],
      "metadata": {
        "id": "kyc7vOfHaY8q"
      }
    },
    {
      "cell_type": "code",
      "source": [
        "%%sql\n",
        "SELECT dept_emp.emp_no, employees.last_name, employees.first_name, departments.dept_name\n",
        "FROM dept_emp JOIN employees ON dept_emp.emp_no = employees.emp_no\n",
        "JOIN departments ON dept_emp.dept_no = departments.dept_no\n",
        "LIMIT 10"
      ],
      "metadata": {
        "colab": {
          "base_uri": "https://localhost:8080/",
          "height": 288
        },
        "id": "IqDBfD7Kbwwc",
        "outputId": "77bd1c14-7ad4-40cf-f5eb-82fac62df44e"
      },
      "execution_count": 46,
      "outputs": [
        {
          "output_type": "stream",
          "name": "stdout",
          "text": [
            " * sqlite:////content/drive/MyDrive/ColabNotebooks/Employee.db\n",
            "Done.\n"
          ]
        },
        {
          "output_type": "execute_result",
          "data": {
            "text/plain": [
              "[(10001, 'Facello', 'Georgi', '110511'),\n",
              " (10001, 'Facello', 'Georgi', '110567'),\n",
              " (10001, 'Facello', 'Georgi', 'Development'),\n",
              " (10002, 'Simmel', 'Bezalel', '111035'),\n",
              " (10002, 'Simmel', 'Bezalel', '111133'),\n",
              " (10002, 'Simmel', 'Bezalel', 'Sales'),\n",
              " (10003, 'Bamford', 'Parto', '110303'),\n",
              " (10003, 'Bamford', 'Parto', '110344'),\n",
              " (10003, 'Bamford', 'Parto', '110386'),\n",
              " (10003, 'Bamford', 'Parto', '110420')]"
            ],
            "text/html": [
              "<table>\n",
              "    <thead>\n",
              "        <tr>\n",
              "            <th>emp_no</th>\n",
              "            <th>last_name</th>\n",
              "            <th>first_name</th>\n",
              "            <th>dept_name</th>\n",
              "        </tr>\n",
              "    </thead>\n",
              "    <tbody>\n",
              "        <tr>\n",
              "            <td>10001</td>\n",
              "            <td>Facello</td>\n",
              "            <td>Georgi</td>\n",
              "            <td>110511</td>\n",
              "        </tr>\n",
              "        <tr>\n",
              "            <td>10001</td>\n",
              "            <td>Facello</td>\n",
              "            <td>Georgi</td>\n",
              "            <td>110567</td>\n",
              "        </tr>\n",
              "        <tr>\n",
              "            <td>10001</td>\n",
              "            <td>Facello</td>\n",
              "            <td>Georgi</td>\n",
              "            <td>Development</td>\n",
              "        </tr>\n",
              "        <tr>\n",
              "            <td>10002</td>\n",
              "            <td>Simmel</td>\n",
              "            <td>Bezalel</td>\n",
              "            <td>111035</td>\n",
              "        </tr>\n",
              "        <tr>\n",
              "            <td>10002</td>\n",
              "            <td>Simmel</td>\n",
              "            <td>Bezalel</td>\n",
              "            <td>111133</td>\n",
              "        </tr>\n",
              "        <tr>\n",
              "            <td>10002</td>\n",
              "            <td>Simmel</td>\n",
              "            <td>Bezalel</td>\n",
              "            <td>Sales</td>\n",
              "        </tr>\n",
              "        <tr>\n",
              "            <td>10003</td>\n",
              "            <td>Bamford</td>\n",
              "            <td>Parto</td>\n",
              "            <td>110303</td>\n",
              "        </tr>\n",
              "        <tr>\n",
              "            <td>10003</td>\n",
              "            <td>Bamford</td>\n",
              "            <td>Parto</td>\n",
              "            <td>110344</td>\n",
              "        </tr>\n",
              "        <tr>\n",
              "            <td>10003</td>\n",
              "            <td>Bamford</td>\n",
              "            <td>Parto</td>\n",
              "            <td>110386</td>\n",
              "        </tr>\n",
              "        <tr>\n",
              "            <td>10003</td>\n",
              "            <td>Bamford</td>\n",
              "            <td>Parto</td>\n",
              "            <td>110420</td>\n",
              "        </tr>\n",
              "    </tbody>\n",
              "</table>"
            ]
          },
          "metadata": {},
          "execution_count": 46
        }
      ]
    },
    {
      "cell_type": "markdown",
      "source": [
        "List first name, last name, and sex for employees whose first name is \"Hercules\" and last names begin with \"B.\""
      ],
      "metadata": {
        "id": "4byfxQYmdnfm"
      }
    },
    {
      "cell_type": "code",
      "source": [
        "%%sql\n",
        "SELECT first_name, last_name, sex\n",
        "FROM employees\n",
        "WHERE first_name = \"Hercules\" AND last_name LIKE \"B%\"\n",
        "LIMIT 10\n"
      ],
      "metadata": {
        "colab": {
          "base_uri": "https://localhost:8080/",
          "height": 288
        },
        "id": "d2yLOeLNdmUX",
        "outputId": "5a00ed7d-de6c-46f1-df82-b764a63e9d37"
      },
      "execution_count": 47,
      "outputs": [
        {
          "output_type": "stream",
          "name": "stdout",
          "text": [
            " * sqlite:////content/drive/MyDrive/ColabNotebooks/Employee.db\n",
            "Done.\n"
          ]
        },
        {
          "output_type": "execute_result",
          "data": {
            "text/plain": [
              "[('Hercules', 'Baer', 'M'),\n",
              " ('Hercules', 'Biron', 'F'),\n",
              " ('Hercules', 'Birge', 'F'),\n",
              " ('Hercules', 'Berstel', 'F'),\n",
              " ('Hercules', 'Bernatsky', 'M'),\n",
              " ('Hercules', 'Bail', 'F'),\n",
              " ('Hercules', 'Bodoff', 'M'),\n",
              " ('Hercules', 'Benantar', 'F'),\n",
              " ('Hercules', 'Basagni', 'M'),\n",
              " ('Hercules', 'Bernardinello', 'F')]"
            ],
            "text/html": [
              "<table>\n",
              "    <thead>\n",
              "        <tr>\n",
              "            <th>first_name</th>\n",
              "            <th>last_name</th>\n",
              "            <th>sex</th>\n",
              "        </tr>\n",
              "    </thead>\n",
              "    <tbody>\n",
              "        <tr>\n",
              "            <td>Hercules</td>\n",
              "            <td>Baer</td>\n",
              "            <td>M</td>\n",
              "        </tr>\n",
              "        <tr>\n",
              "            <td>Hercules</td>\n",
              "            <td>Biron</td>\n",
              "            <td>F</td>\n",
              "        </tr>\n",
              "        <tr>\n",
              "            <td>Hercules</td>\n",
              "            <td>Birge</td>\n",
              "            <td>F</td>\n",
              "        </tr>\n",
              "        <tr>\n",
              "            <td>Hercules</td>\n",
              "            <td>Berstel</td>\n",
              "            <td>F</td>\n",
              "        </tr>\n",
              "        <tr>\n",
              "            <td>Hercules</td>\n",
              "            <td>Bernatsky</td>\n",
              "            <td>M</td>\n",
              "        </tr>\n",
              "        <tr>\n",
              "            <td>Hercules</td>\n",
              "            <td>Bail</td>\n",
              "            <td>F</td>\n",
              "        </tr>\n",
              "        <tr>\n",
              "            <td>Hercules</td>\n",
              "            <td>Bodoff</td>\n",
              "            <td>M</td>\n",
              "        </tr>\n",
              "        <tr>\n",
              "            <td>Hercules</td>\n",
              "            <td>Benantar</td>\n",
              "            <td>F</td>\n",
              "        </tr>\n",
              "        <tr>\n",
              "            <td>Hercules</td>\n",
              "            <td>Basagni</td>\n",
              "            <td>M</td>\n",
              "        </tr>\n",
              "        <tr>\n",
              "            <td>Hercules</td>\n",
              "            <td>Bernardinello</td>\n",
              "            <td>F</td>\n",
              "        </tr>\n",
              "    </tbody>\n",
              "</table>"
            ]
          },
          "metadata": {},
          "execution_count": 47
        }
      ]
    },
    {
      "cell_type": "markdown",
      "source": [
        "Listing all employees in the Sales department, including their employee number, last name, first name, and department name."
      ],
      "metadata": {
        "id": "GzSHJ_4Snl0C"
      }
    },
    {
      "cell_type": "code",
      "source": [
        "%%sql\n",
        "SELECT dept_emp.dept_no,departments.dept_name, employees.emp_no,employees.last_name,employees.first_name\n",
        "FROM dept_emp\n",
        "JOIN departments ON departments.dept_no = dept_emp.dept_no JOIN employees ON dept_emp.emp_no = employees.emp_no\n",
        "WHERE departments.dept_name = \"Sales\"\n",
        "LIMIT 10"
      ],
      "metadata": {
        "colab": {
          "base_uri": "https://localhost:8080/",
          "height": 288
        },
        "id": "1yo-G0_RnoWH",
        "outputId": "8c183032-e8e6-4b48-f4c7-976a5dd17bfc"
      },
      "execution_count": 51,
      "outputs": [
        {
          "output_type": "stream",
          "name": "stdout",
          "text": [
            " * sqlite:////content/drive/MyDrive/ColabNotebooks/Employee.db\n",
            "Done.\n"
          ]
        },
        {
          "output_type": "execute_result",
          "data": {
            "text/plain": [
              "[('d007', 'Sales', 10002, 'Simmel', 'Bezalel'),\n",
              " ('d007', 'Sales', 10016, 'Cappelletti', 'Kazuhito'),\n",
              " ('d007', 'Sales', 10034, 'Swan', 'Bader'),\n",
              " ('d007', 'Sales', 10041, 'Lenart', 'Uri'),\n",
              " ('d007', 'Sales', 10050, 'Dredge', 'Yinghua'),\n",
              " ('d007', 'Sales', 10053, 'Zschoche', 'Sanjiv'),\n",
              " ('d007', 'Sales', 10060, 'Billingsley', 'Breannda'),\n",
              " ('d007', 'Sales', 10061, 'Herber', 'Tse'),\n",
              " ('d007', 'Sales', 10068, 'Brattka', 'Charlene'),\n",
              " ('d007', 'Sales', 10087, 'Eugenio', 'Xinglin')]"
            ],
            "text/html": [
              "<table>\n",
              "    <thead>\n",
              "        <tr>\n",
              "            <th>dept_no</th>\n",
              "            <th>dept_name</th>\n",
              "            <th>emp_no</th>\n",
              "            <th>last_name</th>\n",
              "            <th>first_name</th>\n",
              "        </tr>\n",
              "    </thead>\n",
              "    <tbody>\n",
              "        <tr>\n",
              "            <td>d007</td>\n",
              "            <td>Sales</td>\n",
              "            <td>10002</td>\n",
              "            <td>Simmel</td>\n",
              "            <td>Bezalel</td>\n",
              "        </tr>\n",
              "        <tr>\n",
              "            <td>d007</td>\n",
              "            <td>Sales</td>\n",
              "            <td>10016</td>\n",
              "            <td>Cappelletti</td>\n",
              "            <td>Kazuhito</td>\n",
              "        </tr>\n",
              "        <tr>\n",
              "            <td>d007</td>\n",
              "            <td>Sales</td>\n",
              "            <td>10034</td>\n",
              "            <td>Swan</td>\n",
              "            <td>Bader</td>\n",
              "        </tr>\n",
              "        <tr>\n",
              "            <td>d007</td>\n",
              "            <td>Sales</td>\n",
              "            <td>10041</td>\n",
              "            <td>Lenart</td>\n",
              "            <td>Uri</td>\n",
              "        </tr>\n",
              "        <tr>\n",
              "            <td>d007</td>\n",
              "            <td>Sales</td>\n",
              "            <td>10050</td>\n",
              "            <td>Dredge</td>\n",
              "            <td>Yinghua</td>\n",
              "        </tr>\n",
              "        <tr>\n",
              "            <td>d007</td>\n",
              "            <td>Sales</td>\n",
              "            <td>10053</td>\n",
              "            <td>Zschoche</td>\n",
              "            <td>Sanjiv</td>\n",
              "        </tr>\n",
              "        <tr>\n",
              "            <td>d007</td>\n",
              "            <td>Sales</td>\n",
              "            <td>10060</td>\n",
              "            <td>Billingsley</td>\n",
              "            <td>Breannda</td>\n",
              "        </tr>\n",
              "        <tr>\n",
              "            <td>d007</td>\n",
              "            <td>Sales</td>\n",
              "            <td>10061</td>\n",
              "            <td>Herber</td>\n",
              "            <td>Tse</td>\n",
              "        </tr>\n",
              "        <tr>\n",
              "            <td>d007</td>\n",
              "            <td>Sales</td>\n",
              "            <td>10068</td>\n",
              "            <td>Brattka</td>\n",
              "            <td>Charlene</td>\n",
              "        </tr>\n",
              "        <tr>\n",
              "            <td>d007</td>\n",
              "            <td>Sales</td>\n",
              "            <td>10087</td>\n",
              "            <td>Eugenio</td>\n",
              "            <td>Xinglin</td>\n",
              "        </tr>\n",
              "    </tbody>\n",
              "</table>"
            ]
          },
          "metadata": {},
          "execution_count": 51
        }
      ]
    },
    {
      "cell_type": "markdown",
      "source": [
        "Listing all employees in the Sales and Development departments, including their employee number, last name, first name, and department name."
      ],
      "metadata": {
        "id": "rxZ6NvdDz6M1"
      }
    },
    {
      "cell_type": "code",
      "source": [
        "%%sql\n",
        "SELECT dept_emp.emp_no,departments.dept_name,employees.last_name, employees.first_name\n",
        "FROM dept_emp\n",
        "JOIN employees ON dept_emp.emp_no=employees.emp_no JOIN departments ON departments.dept_no=dept_emp.dept_no\n",
        "WHERE departments.dept_name=\"Sales\" OR departments.dept_name=\"Development\"\n",
        "LIMIT 10"
      ],
      "metadata": {
        "colab": {
          "base_uri": "https://localhost:8080/",
          "height": 288
        },
        "id": "yr9rc5crz03E",
        "outputId": "62c5d55b-10c6-4167-cc47-a0bc9cc38f5e"
      },
      "execution_count": 55,
      "outputs": [
        {
          "output_type": "stream",
          "name": "stdout",
          "text": [
            " * sqlite:////content/drive/MyDrive/ColabNotebooks/Employee.db\n",
            "Done.\n"
          ]
        },
        {
          "output_type": "execute_result",
          "data": {
            "text/plain": [
              "[(10001, 'Development', 'Facello', 'Georgi'),\n",
              " (10006, 'Development', 'Preusig', 'Anneke'),\n",
              " (10008, 'Development', 'Kalloufi', 'Saniya'),\n",
              " (10012, 'Development', 'Bridgland', 'Patricio'),\n",
              " (10014, 'Development', 'Genin', 'Berni'),\n",
              " (10018, 'Development', 'Peha', 'Kazuhide'),\n",
              " (10021, 'Development', 'Erde', 'Ramzi'),\n",
              " (10022, 'Development', 'Famili', 'Shahaf'),\n",
              " (10023, 'Development', 'Montemayor', 'Bojan'),\n",
              " (10025, 'Development', 'Heyers', 'Prasadram')]"
            ],
            "text/html": [
              "<table>\n",
              "    <thead>\n",
              "        <tr>\n",
              "            <th>emp_no</th>\n",
              "            <th>dept_name</th>\n",
              "            <th>last_name</th>\n",
              "            <th>first_name</th>\n",
              "        </tr>\n",
              "    </thead>\n",
              "    <tbody>\n",
              "        <tr>\n",
              "            <td>10001</td>\n",
              "            <td>Development</td>\n",
              "            <td>Facello</td>\n",
              "            <td>Georgi</td>\n",
              "        </tr>\n",
              "        <tr>\n",
              "            <td>10006</td>\n",
              "            <td>Development</td>\n",
              "            <td>Preusig</td>\n",
              "            <td>Anneke</td>\n",
              "        </tr>\n",
              "        <tr>\n",
              "            <td>10008</td>\n",
              "            <td>Development</td>\n",
              "            <td>Kalloufi</td>\n",
              "            <td>Saniya</td>\n",
              "        </tr>\n",
              "        <tr>\n",
              "            <td>10012</td>\n",
              "            <td>Development</td>\n",
              "            <td>Bridgland</td>\n",
              "            <td>Patricio</td>\n",
              "        </tr>\n",
              "        <tr>\n",
              "            <td>10014</td>\n",
              "            <td>Development</td>\n",
              "            <td>Genin</td>\n",
              "            <td>Berni</td>\n",
              "        </tr>\n",
              "        <tr>\n",
              "            <td>10018</td>\n",
              "            <td>Development</td>\n",
              "            <td>Peha</td>\n",
              "            <td>Kazuhide</td>\n",
              "        </tr>\n",
              "        <tr>\n",
              "            <td>10021</td>\n",
              "            <td>Development</td>\n",
              "            <td>Erde</td>\n",
              "            <td>Ramzi</td>\n",
              "        </tr>\n",
              "        <tr>\n",
              "            <td>10022</td>\n",
              "            <td>Development</td>\n",
              "            <td>Famili</td>\n",
              "            <td>Shahaf</td>\n",
              "        </tr>\n",
              "        <tr>\n",
              "            <td>10023</td>\n",
              "            <td>Development</td>\n",
              "            <td>Montemayor</td>\n",
              "            <td>Bojan</td>\n",
              "        </tr>\n",
              "        <tr>\n",
              "            <td>10025</td>\n",
              "            <td>Development</td>\n",
              "            <td>Heyers</td>\n",
              "            <td>Prasadram</td>\n",
              "        </tr>\n",
              "    </tbody>\n",
              "</table>"
            ]
          },
          "metadata": {},
          "execution_count": 55
        }
      ]
    },
    {
      "cell_type": "markdown",
      "source": [
        "\n",
        "In descending order, list the frequency count of employee last names, i.e., how many employees share each last name."
      ],
      "metadata": {
        "id": "hZSdop481eJU"
      }
    },
    {
      "cell_type": "code",
      "source": [
        "%%sql\n",
        "SELECT COUNT(*) AS totalnos, first_name, last_name\n",
        "FROM employees\n",
        "GROUP BY last_name\n",
        "ORDER BY totalnos desc\n",
        "LIMIT 30"
      ],
      "metadata": {
        "colab": {
          "base_uri": "https://localhost:8080/",
          "height": 710
        },
        "id": "tvHXhF_41fP6",
        "outputId": "a91d6ea1-a6af-4e2d-aa2b-d04345600bec"
      },
      "execution_count": 57,
      "outputs": [
        {
          "output_type": "stream",
          "name": "stdout",
          "text": [
            " * sqlite:////content/drive/MyDrive/ColabNotebooks/Employee.db\n",
            "Done.\n"
          ]
        },
        {
          "output_type": "execute_result",
          "data": {
            "text/plain": [
              "[(226, 'Wojceich', 'Baba'),\n",
              " (223, 'Dinkar', 'Gelosh'),\n",
              " (223, 'Aimee', 'Coorg'),\n",
              " (222, 'Shaowei', 'Sudbeck'),\n",
              " (222, 'Zeljko', 'Farris'),\n",
              " (221, 'Radhakrishnan', 'Adachi'),\n",
              " (220, 'Georgi', 'Osgood'),\n",
              " (218, 'Jianwen', 'Neiman'),\n",
              " (218, 'Oscar', 'Masada'),\n",
              " (218, 'Barna', 'Mandell'),\n",
              " (217, 'Stamatina', 'Wendorf'),\n",
              " (217, 'Owen', 'Boudaillier'),\n",
              " (216, 'Bluma', 'Solares'),\n",
              " (216, 'Tru', 'Pettis'),\n",
              " (216, 'Rimli', 'Mahnke'),\n",
              " (216, 'Sorina', 'Cummings'),\n",
              " (215, 'Reuven', 'Maksimenko'),\n",
              " (215, 'Dzung', 'Kulisch'),\n",
              " (215, 'Phule', 'Emmart'),\n",
              " (215, 'Aris', 'Collette'),\n",
              " (215, 'Willard', 'Birjandi'),\n",
              " (214, 'Zeydy', 'Scallan'),\n",
              " (214, 'Sumant', 'Rosaz'),\n",
              " (214, 'Nectarios', 'Pokrovskii'),\n",
              " (214, 'Vidya', 'Boguraev'),\n",
              " (213, 'Shigehiro', 'Wolniewicz'),\n",
              " (213, 'Jongsuk', 'Stifter'),\n",
              " (213, 'Marit', 'Siksek'),\n",
              " (213, 'Lillian', 'Morrey'),\n",
              " (212, 'Miyeon', 'Taubman')]"
            ],
            "text/html": [
              "<table>\n",
              "    <thead>\n",
              "        <tr>\n",
              "            <th>totalnos</th>\n",
              "            <th>first_name</th>\n",
              "            <th>last_name</th>\n",
              "        </tr>\n",
              "    </thead>\n",
              "    <tbody>\n",
              "        <tr>\n",
              "            <td>226</td>\n",
              "            <td>Wojceich</td>\n",
              "            <td>Baba</td>\n",
              "        </tr>\n",
              "        <tr>\n",
              "            <td>223</td>\n",
              "            <td>Dinkar</td>\n",
              "            <td>Gelosh</td>\n",
              "        </tr>\n",
              "        <tr>\n",
              "            <td>223</td>\n",
              "            <td>Aimee</td>\n",
              "            <td>Coorg</td>\n",
              "        </tr>\n",
              "        <tr>\n",
              "            <td>222</td>\n",
              "            <td>Shaowei</td>\n",
              "            <td>Sudbeck</td>\n",
              "        </tr>\n",
              "        <tr>\n",
              "            <td>222</td>\n",
              "            <td>Zeljko</td>\n",
              "            <td>Farris</td>\n",
              "        </tr>\n",
              "        <tr>\n",
              "            <td>221</td>\n",
              "            <td>Radhakrishnan</td>\n",
              "            <td>Adachi</td>\n",
              "        </tr>\n",
              "        <tr>\n",
              "            <td>220</td>\n",
              "            <td>Georgi</td>\n",
              "            <td>Osgood</td>\n",
              "        </tr>\n",
              "        <tr>\n",
              "            <td>218</td>\n",
              "            <td>Jianwen</td>\n",
              "            <td>Neiman</td>\n",
              "        </tr>\n",
              "        <tr>\n",
              "            <td>218</td>\n",
              "            <td>Oscar</td>\n",
              "            <td>Masada</td>\n",
              "        </tr>\n",
              "        <tr>\n",
              "            <td>218</td>\n",
              "            <td>Barna</td>\n",
              "            <td>Mandell</td>\n",
              "        </tr>\n",
              "        <tr>\n",
              "            <td>217</td>\n",
              "            <td>Stamatina</td>\n",
              "            <td>Wendorf</td>\n",
              "        </tr>\n",
              "        <tr>\n",
              "            <td>217</td>\n",
              "            <td>Owen</td>\n",
              "            <td>Boudaillier</td>\n",
              "        </tr>\n",
              "        <tr>\n",
              "            <td>216</td>\n",
              "            <td>Bluma</td>\n",
              "            <td>Solares</td>\n",
              "        </tr>\n",
              "        <tr>\n",
              "            <td>216</td>\n",
              "            <td>Tru</td>\n",
              "            <td>Pettis</td>\n",
              "        </tr>\n",
              "        <tr>\n",
              "            <td>216</td>\n",
              "            <td>Rimli</td>\n",
              "            <td>Mahnke</td>\n",
              "        </tr>\n",
              "        <tr>\n",
              "            <td>216</td>\n",
              "            <td>Sorina</td>\n",
              "            <td>Cummings</td>\n",
              "        </tr>\n",
              "        <tr>\n",
              "            <td>215</td>\n",
              "            <td>Reuven</td>\n",
              "            <td>Maksimenko</td>\n",
              "        </tr>\n",
              "        <tr>\n",
              "            <td>215</td>\n",
              "            <td>Dzung</td>\n",
              "            <td>Kulisch</td>\n",
              "        </tr>\n",
              "        <tr>\n",
              "            <td>215</td>\n",
              "            <td>Phule</td>\n",
              "            <td>Emmart</td>\n",
              "        </tr>\n",
              "        <tr>\n",
              "            <td>215</td>\n",
              "            <td>Aris</td>\n",
              "            <td>Collette</td>\n",
              "        </tr>\n",
              "        <tr>\n",
              "            <td>215</td>\n",
              "            <td>Willard</td>\n",
              "            <td>Birjandi</td>\n",
              "        </tr>\n",
              "        <tr>\n",
              "            <td>214</td>\n",
              "            <td>Zeydy</td>\n",
              "            <td>Scallan</td>\n",
              "        </tr>\n",
              "        <tr>\n",
              "            <td>214</td>\n",
              "            <td>Sumant</td>\n",
              "            <td>Rosaz</td>\n",
              "        </tr>\n",
              "        <tr>\n",
              "            <td>214</td>\n",
              "            <td>Nectarios</td>\n",
              "            <td>Pokrovskii</td>\n",
              "        </tr>\n",
              "        <tr>\n",
              "            <td>214</td>\n",
              "            <td>Vidya</td>\n",
              "            <td>Boguraev</td>\n",
              "        </tr>\n",
              "        <tr>\n",
              "            <td>213</td>\n",
              "            <td>Shigehiro</td>\n",
              "            <td>Wolniewicz</td>\n",
              "        </tr>\n",
              "        <tr>\n",
              "            <td>213</td>\n",
              "            <td>Jongsuk</td>\n",
              "            <td>Stifter</td>\n",
              "        </tr>\n",
              "        <tr>\n",
              "            <td>213</td>\n",
              "            <td>Marit</td>\n",
              "            <td>Siksek</td>\n",
              "        </tr>\n",
              "        <tr>\n",
              "            <td>213</td>\n",
              "            <td>Lillian</td>\n",
              "            <td>Morrey</td>\n",
              "        </tr>\n",
              "        <tr>\n",
              "            <td>212</td>\n",
              "            <td>Miyeon</td>\n",
              "            <td>Taubman</td>\n",
              "        </tr>\n",
              "    </tbody>\n",
              "</table>"
            ]
          },
          "metadata": {},
          "execution_count": 57
        }
      ]
    }
  ]
}